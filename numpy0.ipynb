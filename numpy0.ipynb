{
 "cells": [
  {
   "cell_type": "markdown",
   "metadata": {},
   "source": [
    "Before you turn this problem in, make sure everything runs as expected. First, **restart the kernel** (in the menubar, select Kernel$\\rightarrow$Restart) and then **run all cells** (in the menubar, select Cell$\\rightarrow$Run All).\n",
    "\n",
    "Make sure you fill in any place that says `YOUR CODE HERE` or \"YOUR ANSWER HERE\", as well as your github nickname below:"
   ]
  },
  {
   "cell_type": "code",
   "execution_count": 1,
   "metadata": {},
   "outputs": [],
   "source": [
    "NICKNAME = \"DaniloShtanka\""
   ]
  },
  {
   "cell_type": "markdown",
   "metadata": {},
   "source": [
    "---"
   ]
  },
  {
   "cell_type": "markdown",
   "metadata": {
    "deletable": false,
    "editable": false,
    "nbgrader": {
     "cell_type": "markdown",
     "checksum": "13d4b32a8aa6df93deddb6933b8b574c",
     "grade": false,
     "grade_id": "cell-4efb0b8c73de10d7",
     "locked": true,
     "schema_version": 3,
     "solution": false,
     "task": false
    }
   },
   "source": [
    "# Задачи по NumPy"
   ]
  },
  {
   "cell_type": "code",
   "execution_count": 10,
   "metadata": {
    "ExecuteTime": {
     "end_time": "2022-09-28T21:33:50.840713Z",
     "start_time": "2022-09-28T21:33:50.335730Z"
    },
    "deletable": false,
    "editable": false,
    "nbgrader": {
     "cell_type": "code",
     "checksum": "7a478e1d3b0f42546f049f6db2a101d9",
     "grade": false,
     "grade_id": "cell-e0f2fa9f6c75a673",
     "locked": true,
     "schema_version": 3,
     "solution": false,
     "task": false
    }
   },
   "outputs": [],
   "source": [
    "import numpy as np\n",
    "import matplotlib.pyplot as plt"
   ]
  },
  {
   "cell_type": "markdown",
   "metadata": {
    "deletable": false,
    "editable": false,
    "nbgrader": {
     "cell_type": "markdown",
     "checksum": "b9f1cca644dabe1354c3e5e959186342",
     "grade": false,
     "grade_id": "cell-38f488cb2a8bd4c4",
     "locked": true,
     "schema_version": 3,
     "solution": false,
     "task": false
    }
   },
   "source": [
    "1. Напишите функцию, возвращающую нулевой вектор длины 10, у которого пятый элемент - единица.\n",
    "\n",
    "*Вектор - numpy массив с shape = (n,)*"
   ]
  },
  {
   "cell_type": "code",
   "execution_count": 11,
   "metadata": {
    "deletable": false,
    "nbgrader": {
     "cell_type": "code",
     "checksum": "fc04e0f0a03c5a710d958e3bd83dba0c",
     "grade": false,
     "grade_id": "cell-f65d513623e98cd2",
     "locked": false,
     "schema_version": 3,
     "solution": true,
     "task": false
    }
   },
   "outputs": [
    {
     "data": {
      "text/plain": [
       "array([0., 0., 0., 0., 1., 0., 0., 0., 0., 0.])"
      ]
     },
     "execution_count": 11,
     "metadata": {},
     "output_type": "execute_result"
    }
   ],
   "source": [
    "def null_vec():\n",
    "    a = np.zeros(10)\n",
    "    a[4] = 1\n",
    "    return a\n",
    "null_vec()"
   ]
  },
  {
   "cell_type": "code",
   "execution_count": null,
   "metadata": {
    "deletable": false,
    "editable": false,
    "nbgrader": {
     "cell_type": "code",
     "checksum": "5fcae6a2893f126bf2c760cb4323ca4e",
     "grade": true,
     "grade_id": "cell-1f7c19ae31380e34",
     "locked": true,
     "points": 1,
     "schema_version": 3,
     "solution": false,
     "task": false
    }
   },
   "outputs": [],
   "source": []
  },
  {
   "cell_type": "markdown",
   "metadata": {
    "deletable": false,
    "editable": false,
    "nbgrader": {
     "cell_type": "markdown",
     "checksum": "09351b4a8153ae7e223d734a7032298c",
     "grade": false,
     "grade_id": "cell-9bd5be14d3c4a9d0",
     "locked": true,
     "schema_version": 3,
     "solution": false,
     "task": false
    }
   },
   "source": [
    "2.Верните перевернутый вектор.\n",
    "\n",
    "Пример: [1, 2, 3]->[3,2,1]"
   ]
  },
  {
   "cell_type": "code",
   "execution_count": 14,
   "metadata": {
    "deletable": false,
    "nbgrader": {
     "cell_type": "code",
     "checksum": "191f351fd8f17acea95f6b027f2df8d7",
     "grade": false,
     "grade_id": "cell-9b4f47aa0cb85467",
     "locked": false,
     "schema_version": 3,
     "solution": true,
     "task": false
    }
   },
   "outputs": [
    {
     "data": {
      "text/plain": [
       "array([3, 2, 1])"
      ]
     },
     "execution_count": 14,
     "metadata": {},
     "output_type": "execute_result"
    }
   ],
   "source": [
    "def reverse_vec(v):\n",
    "    n=1\n",
    "    z= np.array([], v.dtype)\n",
    "    for i in v:\n",
    "        z = np.append(z, v[v.size-n])\n",
    "        n+=1       \n",
    "    return z\n",
    "reverse_vec(np.array([1,2,3]))"
   ]
  },
  {
   "cell_type": "code",
   "execution_count": null,
   "metadata": {
    "deletable": false,
    "editable": false,
    "nbgrader": {
     "cell_type": "code",
     "checksum": "230b5e9fd7ff7795c26fd41be8c90184",
     "grade": true,
     "grade_id": "cell-f57d3b785304cbc2",
     "locked": true,
     "points": 1,
     "schema_version": 3,
     "solution": false,
     "task": false
    }
   },
   "outputs": [],
   "source": []
  },
  {
   "cell_type": "markdown",
   "metadata": {
    "deletable": false,
    "editable": false,
    "nbgrader": {
     "cell_type": "markdown",
     "checksum": "6d4c6a65d7cbdcb5f823e0aba4da1a23",
     "grade": false,
     "grade_id": "cell-66f3b689c2c82b66",
     "locked": true,
     "schema_version": 3,
     "solution": false,
     "task": false
    }
   },
   "source": [
    "3.Создайте матрицу 3x3, в которой величины будут идти по порядку от 0 до 8: \n",
    "\n",
    "\\begin{equation*} \n",
    "\\begin{pmatrix}\n",
    "0 & 1 & 2 \\\\\n",
    "3 & 4 & 5 \\\\\n",
    "6 & 7 & 8 \n",
    "\\end{pmatrix}\n",
    "\\end{equation*}"
   ]
  },
  {
   "cell_type": "code",
   "execution_count": 16,
   "metadata": {
    "deletable": false,
    "nbgrader": {
     "cell_type": "code",
     "checksum": "76545faee85f50bdf5916ee76e3542b4",
     "grade": false,
     "grade_id": "cell-17bec3567fc74cc1",
     "locked": false,
     "schema_version": 3,
     "solution": true,
     "task": false
    }
   },
   "outputs": [
    {
     "data": {
      "text/plain": [
       "array([[0, 1, 2],\n",
       "       [3, 4, 5],\n",
       "       [6, 7, 8]])"
      ]
     },
     "execution_count": 16,
     "metadata": {},
     "output_type": "execute_result"
    }
   ],
   "source": [
    "def matrix():\n",
    "    x=np.arange(9).reshape((3,3))\n",
    "    return x    \n",
    "matrix()"
   ]
  },
  {
   "cell_type": "code",
   "execution_count": null,
   "metadata": {
    "deletable": false,
    "editable": false,
    "nbgrader": {
     "cell_type": "code",
     "checksum": "27b3aeb30354329e1cfc8639ec3bb2fe",
     "grade": true,
     "grade_id": "cell-3b80759ec55892f3",
     "locked": true,
     "points": 1,
     "schema_version": 3,
     "solution": false,
     "task": false
    }
   },
   "outputs": [],
   "source": []
  },
  {
   "cell_type": "markdown",
   "metadata": {
    "deletable": false,
    "editable": false,
    "nbgrader": {
     "cell_type": "markdown",
     "checksum": "8e024e4c89faaf596f229be7abd19c16",
     "grade": false,
     "grade_id": "cell-7b559a2c96997c1a",
     "locked": true,
     "schema_version": 3,
     "solution": false,
     "task": false
    }
   },
   "source": [
    "4. Постройте матрицу размером 8х8 по принципу шахматной доски."
   ]
  },
  {
   "cell_type": "code",
   "execution_count": 17,
   "metadata": {
    "ExecuteTime": {
     "end_time": "2022-09-28T21:33:16.008347Z",
     "start_time": "2022-09-28T21:33:16.000276Z"
    },
    "deletable": false,
    "nbgrader": {
     "cell_type": "code",
     "checksum": "c07a9194de31c261cd61be734a0a93f2",
     "grade": false,
     "grade_id": "cell-d3656b24b46b803b",
     "locked": false,
     "schema_version": 3,
     "solution": true,
     "task": false
    }
   },
   "outputs": [
    {
     "data": {
      "text/plain": [
       "chararray([[b's', b'z', b's', b'z', b's', b'z', b's', b'z'],\n",
       "           [b'z', b's', b'z', b's', b'z', b's', b'z', b's'],\n",
       "           [b's', b'z', b's', b'z', b's', b'z', b's', b'z'],\n",
       "           [b'z', b's', b'z', b's', b'z', b's', b'z', b's'],\n",
       "           [b's', b'z', b's', b'z', b's', b'z', b's', b'z'],\n",
       "           [b'z', b's', b'z', b's', b'z', b's', b'z', b's'],\n",
       "           [b's', b'z', b's', b'z', b's', b'z', b's', b'z'],\n",
       "           [b'z', b's', b'z', b's', b'z', b's', b'z', b's']], dtype='|S1')"
      ]
     },
     "execution_count": 17,
     "metadata": {},
     "output_type": "execute_result"
    }
   ],
   "source": [
    "def checkerboard(w, b):\n",
    "    \"\"\"Создает матрицу по принципу шахматной доски.\n",
    "    Parameters\n",
    "    ----------\n",
    "    w: Символ, обозначающий белую клетку\n",
    "    b: Символ, обозначающий черную клетку\n",
    "    \n",
    "    Returns\n",
    "    -------\n",
    "    m: Матрица 8х8.\n",
    "    \"\"\"\n",
    "    s = np.arange(64)\n",
    "    m = np.chararray(64)\n",
    "    m[:]=b\n",
    "    m[(s // 8 ^ s% 8) % 2 == 0] = w\n",
    "    return m.reshape((8,8))\n",
    "checkerboard(\"s\", \"z\")"
   ]
  },
  {
   "cell_type": "code",
   "execution_count": null,
   "metadata": {
    "deletable": false,
    "editable": false,
    "nbgrader": {
     "cell_type": "code",
     "checksum": "70b90d99a5e641ceef1dc24bd3fa4e21",
     "grade": true,
     "grade_id": "cell-92e793300667d965",
     "locked": true,
     "points": 1,
     "schema_version": 3,
     "solution": false,
     "task": false
    }
   },
   "outputs": [],
   "source": []
  },
  {
   "cell_type": "markdown",
   "metadata": {
    "deletable": false,
    "editable": false,
    "nbgrader": {
     "cell_type": "markdown",
     "checksum": "5ec7591c47c18decc245ca631a85ddf1",
     "grade": false,
     "grade_id": "cell-d11eb05802ab4025",
     "locked": true,
     "schema_version": 3,
     "solution": false,
     "task": false
    }
   },
   "source": [
    "5. Напишите функцию, которая переводит декартовы координаты в полярные."
   ]
  },
  {
   "cell_type": "code",
   "execution_count": 18,
   "metadata": {
    "ExecuteTime": {
     "end_time": "2022-09-28T21:36:09.225111Z",
     "start_time": "2022-09-28T21:36:09.177999Z"
    },
    "deletable": false,
    "nbgrader": {
     "cell_type": "code",
     "checksum": "efa1250b28d4f0f92d5d74e830ec482f",
     "grade": false,
     "grade_id": "cell-b190ffcc2e3da3a7",
     "locked": false,
     "schema_version": 3,
     "solution": true,
     "task": false
    }
   },
   "outputs": [
    {
     "ename": "TypeError",
     "evalue": "cartesian_to_polar() missing 1 required positional argument: 'c'",
     "output_type": "error",
     "traceback": [
      "\u001b[1;31m---------------------------------------------------------------------------\u001b[0m",
      "\u001b[1;31mTypeError\u001b[0m                                 Traceback (most recent call last)",
      "Input \u001b[1;32mIn [18]\u001b[0m, in \u001b[0;36m<cell line: 17>\u001b[1;34m()\u001b[0m\n\u001b[0;32m     15\u001b[0m     p\u001b[38;5;241m=\u001b[39mnp\u001b[38;5;241m.\u001b[39marray([c[:,\u001b[38;5;241m0\u001b[39m] \u001b[38;5;241m*\u001b[39m\u001b[38;5;241m*\u001b[39m \u001b[38;5;241m2\u001b[39m \u001b[38;5;241m+\u001b[39m c[:,\u001b[38;5;241m1\u001b[39m] \u001b[38;5;241m*\u001b[39m\u001b[38;5;241m*\u001b[39m \u001b[38;5;241m2\u001b[39m,  np\u001b[38;5;241m.\u001b[39marctan2(c[:,\u001b[38;5;241m1\u001b[39m], c[:,\u001b[38;5;241m0\u001b[39m])])\u001b[38;5;241m.\u001b[39mT\n\u001b[0;32m     16\u001b[0m     \u001b[38;5;28;01mreturn\u001b[39;00m p\n\u001b[1;32m---> 17\u001b[0m \u001b[43mcartesian_to_polar\u001b[49m\u001b[43m(\u001b[49m\u001b[43m)\u001b[49m\n",
      "\u001b[1;31mTypeError\u001b[0m: cartesian_to_polar() missing 1 required positional argument: 'c'"
     ]
    }
   ],
   "source": [
    "def cartesian_to_polar(c):\n",
    "    \"\"\"Переводит массив, состоящий из 10 пар координат xy \n",
    "    в массив координат r phi.\n",
    "    \n",
    "    Parameters\n",
    "    ----------\n",
    "    c: Array of int.\n",
    "    Массив размерами 10х2, каждая строка -- декартовы координаты точки. \n",
    "    \n",
    "    Returns\n",
    "    -------\n",
    "    p: Array of int. \n",
    "    Аналогичный массив из пар полярных координат. В первом столбике r.\n",
    "    \"\"\"\n",
    "    p=np.array([c[:,0] ** 2 + c[:,1] ** 2,  np.arctan2(c[:,1], c[:,0])]).T\n",
    "    return p\n",
    "cartesian_to_polar()"
   ]
  },
  {
   "cell_type": "code",
   "execution_count": null,
   "metadata": {
    "deletable": false,
    "editable": false,
    "nbgrader": {
     "cell_type": "code",
     "checksum": "af18abbf22434efdedd88b61d3ec1431",
     "grade": true,
     "grade_id": "cell-a4bb448a7328b920",
     "locked": true,
     "points": 2,
     "schema_version": 3,
     "solution": false,
     "task": false
    }
   },
   "outputs": [],
   "source": []
  },
  {
   "cell_type": "markdown",
   "metadata": {
    "deletable": false,
    "editable": false,
    "nbgrader": {
     "cell_type": "markdown",
     "checksum": "0015138989241286a3c0d4a914b99526",
     "grade": false,
     "grade_id": "cell-90235d4cabb80c2b",
     "locked": true,
     "schema_version": 3,
     "solution": false,
     "task": false
    }
   },
   "source": [
    "6. Улитка Пасскаля -- плоская кривая, задаваемая уравнением в полярных координатах: $𝑟=𝑎+cos𝜙.$ \n",
    "\n",
    "Напишите функцию, определяющую координаты точек такой кривой.\n",
    "\n",
    "(Подсказка: np.linspace создает одномерный массив из указанного количества элементов, значения которых равномерно распределенны внутри заданного интервала.)"
   ]
  },
  {
   "cell_type": "code",
   "execution_count": 19,
   "metadata": {
    "deletable": false,
    "nbgrader": {
     "cell_type": "code",
     "checksum": "deb5e6f0870cd45934719f70da54a546",
     "grade": false,
     "grade_id": "cell-bea2b11f79b37b02",
     "locked": false,
     "schema_version": 3,
     "solution": true,
     "task": false
    }
   },
   "outputs": [
    {
     "data": {
      "text/plain": [
       "array([[ 2.0000000e+00,  0.0000000e+00],\n",
       "       [ 2.0000000e+00, -2.4492936e-16]])"
      ]
     },
     "execution_count": 19,
     "metadata": {},
     "output_type": "execute_result"
    }
   ],
   "source": [
    "def make_curve(n, a):\n",
    "    '''Функция возвращает массив nх2, содержащий n пар \n",
    "    декартовых координат точек кривой Паскаля'''\n",
    "    t = np.linspace(0, 2 * np.pi, n)\n",
    "    xy = np.array([a * np.cos(t) - np.cos(2 * t), a * np.sin(t) - np.sin(2 * t)]).T\n",
    "    return xy\n",
    "make_curve(2, 3)"
   ]
  },
  {
   "cell_type": "code",
   "execution_count": 20,
   "metadata": {
    "deletable": false,
    "editable": false,
    "nbgrader": {
     "cell_type": "code",
     "checksum": "903a83b433060f37236ab3ae0b1d2f66",
     "grade": true,
     "grade_id": "cell-28ce80f4d588a6d9",
     "locked": true,
     "points": 2,
     "schema_version": 3,
     "solution": false,
     "task": false
    }
   },
   "outputs": [],
   "source": [
    "N = 50\n",
    "A = 1\n",
    "m = make_curve(N, A)"
   ]
  },
  {
   "cell_type": "markdown",
   "metadata": {
    "deletable": false,
    "editable": false,
    "nbgrader": {
     "cell_type": "markdown",
     "checksum": "477a62382dd7b5b6cd936639acbffb1a",
     "grade": false,
     "grade_id": "cell-a46ace5952ca4916",
     "locked": true,
     "schema_version": 3,
     "solution": false,
     "task": false
    }
   },
   "source": [
    "Постройте ее на плоскости xy для разных значений a."
   ]
  },
  {
   "cell_type": "code",
   "execution_count": 10,
   "metadata": {
    "deletable": false,
    "nbgrader": {
     "cell_type": "code",
     "checksum": "865d58049347d2b3f89d531565501c0d",
     "grade": true,
     "grade_id": "cell-5589004ce9d6a2fa",
     "locked": false,
     "points": 2,
     "schema_version": 3,
     "solution": true,
     "task": false
    }
   },
   "outputs": [
    {
     "data": {
      "image/png": "[encoded data removed]",
      "text/plain": [
       "<Figure size 432x288 with 1 Axes>"
      ]
     },
     "metadata": {
      "needs_background": "light"
     },
     "output_type": "display_data"
    }
   ],
   "source": [
    "for A in range(1,10):\n",
    "    plt.plot(*make_curve(N, A / 5).T, color=(0, 0.5, 1,  A / 10))\n",
    "plt.show()"
   ]
  },
  {
   "cell_type": "code",
   "execution_count": null,
   "metadata": {},
   "outputs": [],
   "source": []
  },
  {
   "cell_type": "code",
   "execution_count": null,
   "metadata": {},
   "outputs": [],
   "source": []
  },
  {
   "cell_type": "code",
   "execution_count": null,
   "metadata": {},
   "outputs": [],
   "source": []
  },
  {
   "cell_type": "code",
   "execution_count": null,
   "metadata": {},
   "outputs": [],
   "source": []
  }
 ],
 "metadata": {
  "kernelspec": {
   "display_name": "Python 3 (ipykernel)",
   "language": "python",
   "name": "python3"
  },
  "language_info": {
   "codemirror_mode": {
    "name": "ipython",
    "version": 3
   },
   "file_extension": ".py",
   "mimetype": "text/x-python",
   "name": "python",
   "nbconvert_exporter": "python",
   "pygments_lexer": "ipython3",
   "version": "3.9.12"
  },
  "latex_envs": {
   "LaTeX_envs_menu_present": true,
   "autoclose": false,
   "autocomplete": true,
   "bibliofile": "biblio.bib",
   "cite_by": "apalike",
   "current_citInitial": 1,
   "eqLabelWithNumbers": true,
   "eqNumInitial": 1,
   "hotkeys": {
    "equation": "Ctrl-E",
    "itemize": "Ctrl-I"
   },
   "labels_anchors": false,
   "latex_user_defs": false,
   "report_style_numbering": false,
   "user_envs_cfg": false
  },
  "toc": {
   "base_numbering": 1,
   "nav_menu": {},
   "number_sections": true,
   "sideBar": true,
   "skip_h1_title": false,
   "title_cell": "Table of Contents",
   "title_sidebar": "Contents",
   "toc_cell": false,
   "toc_position": {},
   "toc_section_display": true,
   "toc_window_display": false
  }
 },
 "nbformat": 4,
 "nbformat_minor": 4
}
